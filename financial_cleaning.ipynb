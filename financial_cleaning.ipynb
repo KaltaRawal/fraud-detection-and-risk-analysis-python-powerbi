{
 "cells": [
  {
   "cell_type": "code",
   "execution_count": 29,
   "id": "5108aa84-090f-431c-a963-19e35ef6b5e9",
   "metadata": {},
   "outputs": [],
   "source": [
    "import pandas as pd\n",
    "import os\n",
    "from sqlalchemy import create_engine\n",
    "import numpy as np"
   ]
  },
  {
   "cell_type": "code",
   "execution_count": 2,
   "id": "1a60067b-1913-4843-8aac-b2ffdc6c3413",
   "metadata": {},
   "outputs": [],
   "source": [
    "engine = create_engine('sqlite:///fintrack.db')"
   ]
  },
  {
   "cell_type": "code",
   "execution_count": 7,
   "id": "9152c700-5f6e-488d-af30-b3e0cd2795b9",
   "metadata": {},
   "outputs": [],
   "source": [
    "for file in os.listdir('data'):\n",
    "    if file.endswith('.csv'):\n",
    "        df = pd.read_csv('data/'+file)"
   ]
  },
  {
   "cell_type": "code",
   "execution_count": 9,
   "id": "bbd58fe6-d8fc-47ae-9a5f-ec9d6e4e2a02",
   "metadata": {},
   "outputs": [
    {
     "data": {
      "text/plain": [
       "(50000, 21)"
      ]
     },
     "execution_count": 9,
     "metadata": {},
     "output_type": "execute_result"
    }
   ],
   "source": [
    "df.shape"
   ]
  },
  {
   "cell_type": "code",
   "execution_count": 10,
   "id": "8a6195c5-17a2-41ea-9cdb-ad2fb72bb1df",
   "metadata": {},
   "outputs": [
    {
     "name": "stdout",
     "output_type": "stream",
     "text": [
      "<class 'pandas.core.frame.DataFrame'>\n",
      "RangeIndex: 50000 entries, 0 to 49999\n",
      "Data columns (total 21 columns):\n",
      " #   Column                        Non-Null Count  Dtype  \n",
      "---  ------                        --------------  -----  \n",
      " 0   Transaction_ID                50000 non-null  object \n",
      " 1   User_ID                       50000 non-null  object \n",
      " 2   Transaction_Amount            50000 non-null  float64\n",
      " 3   Transaction_Type              50000 non-null  object \n",
      " 4   Timestamp                     50000 non-null  object \n",
      " 5   Account_Balance               50000 non-null  float64\n",
      " 6   Device_Type                   50000 non-null  object \n",
      " 7   Location                      50000 non-null  object \n",
      " 8   Merchant_Category             50000 non-null  object \n",
      " 9   IP_Address_Flag               50000 non-null  int64  \n",
      " 10  Previous_Fraudulent_Activity  50000 non-null  int64  \n",
      " 11  Daily_Transaction_Count       50000 non-null  int64  \n",
      " 12  Avg_Transaction_Amount_7d     50000 non-null  float64\n",
      " 13  Failed_Transaction_Count_7d   50000 non-null  int64  \n",
      " 14  Card_Type                     50000 non-null  object \n",
      " 15  Card_Age                      50000 non-null  int64  \n",
      " 16  Transaction_Distance          50000 non-null  float64\n",
      " 17  Authentication_Method         50000 non-null  object \n",
      " 18  Risk_Score                    50000 non-null  float64\n",
      " 19  Is_Weekend                    50000 non-null  int64  \n",
      " 20  Fraud_Label                   50000 non-null  int64  \n",
      "dtypes: float64(5), int64(7), object(9)\n",
      "memory usage: 8.0+ MB\n"
     ]
    }
   ],
   "source": [
    "df.info()"
   ]
  },
  {
   "cell_type": "code",
   "execution_count": 11,
   "id": "d0f1b189-3c5d-4ac0-9a2d-3cc4e91e43a8",
   "metadata": {},
   "outputs": [],
   "source": [
    "df['Timestamp'] = pd.to_datetime(df['Timestamp'])"
   ]
  },
  {
   "cell_type": "code",
   "execution_count": 12,
   "id": "d53ae475-0be7-42e3-87b7-338592817254",
   "metadata": {},
   "outputs": [
    {
     "data": {
      "image/png": "[encoded data removed]",
      "text/plain": [
       "<Figure size 640x480 with 1 Axes>"
      ]
     },
     "metadata": {},
     "output_type": "display_data"
    }
   ],
   "source": [
    "import seaborn as sns\n",
    "import matplotlib.pyplot as plt\n",
    "\n",
    "sns.boxplot(x=df['Transaction_Amount'])\n",
    "plt.show()\n"
   ]
  },
  {
   "cell_type": "code",
   "execution_count": 13,
   "id": "d26bc59f-4ddd-48ef-9a46-e02787bef2a2",
   "metadata": {},
   "outputs": [
    {
     "data": {
      "text/html": [
       "<div>\n",
       "<style scoped>\n",
       "    .dataframe tbody tr th:only-of-type {\n",
       "        vertical-align: middle;\n",
       "    }\n",
       "\n",
       "    .dataframe tbody tr th {\n",
       "        vertical-align: top;\n",
       "    }\n",
       "\n",
       "    .dataframe thead th {\n",
       "        text-align: right;\n",
       "    }\n",
       "</style>\n",
       "<table border=\"1\" class=\"dataframe\">\n",
       "  <thead>\n",
       "    <tr style=\"text-align: right;\">\n",
       "      <th></th>\n",
       "      <th>Transaction_Amount</th>\n",
       "      <th>Timestamp</th>\n",
       "      <th>Account_Balance</th>\n",
       "      <th>IP_Address_Flag</th>\n",
       "      <th>Previous_Fraudulent_Activity</th>\n",
       "      <th>Daily_Transaction_Count</th>\n",
       "      <th>Avg_Transaction_Amount_7d</th>\n",
       "      <th>Failed_Transaction_Count_7d</th>\n",
       "      <th>Card_Age</th>\n",
       "      <th>Transaction_Distance</th>\n",
       "      <th>Risk_Score</th>\n",
       "      <th>Is_Weekend</th>\n",
       "      <th>Fraud_Label</th>\n",
       "    </tr>\n",
       "  </thead>\n",
       "  <tbody>\n",
       "    <tr>\n",
       "      <th>count</th>\n",
       "      <td>50000.000000</td>\n",
       "      <td>50000</td>\n",
       "      <td>50000.000000</td>\n",
       "      <td>50000.00000</td>\n",
       "      <td>50000.000000</td>\n",
       "      <td>50000.000000</td>\n",
       "      <td>50000.000000</td>\n",
       "      <td>50000.000000</td>\n",
       "      <td>50000.000000</td>\n",
       "      <td>50000.000000</td>\n",
       "      <td>50000.000000</td>\n",
       "      <td>50000.000000</td>\n",
       "      <td>50000.000000</td>\n",
       "    </tr>\n",
       "    <tr>\n",
       "      <th>mean</th>\n",
       "      <td>99.411012</td>\n",
       "      <td>2023-07-02 12:47:11.063999744</td>\n",
       "      <td>50294.065981</td>\n",
       "      <td>0.05020</td>\n",
       "      <td>0.098400</td>\n",
       "      <td>7.485240</td>\n",
       "      <td>255.271924</td>\n",
       "      <td>2.003540</td>\n",
       "      <td>119.999940</td>\n",
       "      <td>2499.164155</td>\n",
       "      <td>0.501556</td>\n",
       "      <td>0.299640</td>\n",
       "      <td>0.321340</td>\n",
       "    </tr>\n",
       "    <tr>\n",
       "      <th>min</th>\n",
       "      <td>0.000000</td>\n",
       "      <td>2023-01-01 00:01:00</td>\n",
       "      <td>500.480000</td>\n",
       "      <td>0.00000</td>\n",
       "      <td>0.000000</td>\n",
       "      <td>1.000000</td>\n",
       "      <td>10.000000</td>\n",
       "      <td>0.000000</td>\n",
       "      <td>1.000000</td>\n",
       "      <td>0.250000</td>\n",
       "      <td>0.000100</td>\n",
       "      <td>0.000000</td>\n",
       "      <td>0.000000</td>\n",
       "    </tr>\n",
       "    <tr>\n",
       "      <th>25%</th>\n",
       "      <td>28.677500</td>\n",
       "      <td>2023-04-02 03:35:30</td>\n",
       "      <td>25355.995000</td>\n",
       "      <td>0.00000</td>\n",
       "      <td>0.000000</td>\n",
       "      <td>4.000000</td>\n",
       "      <td>132.087500</td>\n",
       "      <td>1.000000</td>\n",
       "      <td>60.000000</td>\n",
       "      <td>1256.497500</td>\n",
       "      <td>0.254000</td>\n",
       "      <td>0.000000</td>\n",
       "      <td>0.000000</td>\n",
       "    </tr>\n",
       "    <tr>\n",
       "      <th>50%</th>\n",
       "      <td>69.660000</td>\n",
       "      <td>2023-07-02 14:00:00</td>\n",
       "      <td>50384.430000</td>\n",
       "      <td>0.00000</td>\n",
       "      <td>0.000000</td>\n",
       "      <td>7.000000</td>\n",
       "      <td>256.085000</td>\n",
       "      <td>2.000000</td>\n",
       "      <td>120.000000</td>\n",
       "      <td>2490.785000</td>\n",
       "      <td>0.502250</td>\n",
       "      <td>0.000000</td>\n",
       "      <td>0.000000</td>\n",
       "    </tr>\n",
       "    <tr>\n",
       "      <th>75%</th>\n",
       "      <td>138.852500</td>\n",
       "      <td>2023-10-01 07:13:00</td>\n",
       "      <td>75115.135000</td>\n",
       "      <td>0.00000</td>\n",
       "      <td>0.000000</td>\n",
       "      <td>11.000000</td>\n",
       "      <td>378.032500</td>\n",
       "      <td>3.000000</td>\n",
       "      <td>180.000000</td>\n",
       "      <td>3746.395000</td>\n",
       "      <td>0.749525</td>\n",
       "      <td>1.000000</td>\n",
       "      <td>1.000000</td>\n",
       "    </tr>\n",
       "    <tr>\n",
       "      <th>max</th>\n",
       "      <td>1174.140000</td>\n",
       "      <td>2023-12-31 23:50:00</td>\n",
       "      <td>99998.310000</td>\n",
       "      <td>1.00000</td>\n",
       "      <td>1.000000</td>\n",
       "      <td>14.000000</td>\n",
       "      <td>500.000000</td>\n",
       "      <td>4.000000</td>\n",
       "      <td>239.000000</td>\n",
       "      <td>4999.930000</td>\n",
       "      <td>1.000000</td>\n",
       "      <td>1.000000</td>\n",
       "      <td>1.000000</td>\n",
       "    </tr>\n",
       "    <tr>\n",
       "      <th>std</th>\n",
       "      <td>98.687292</td>\n",
       "      <td>NaN</td>\n",
       "      <td>28760.458557</td>\n",
       "      <td>0.21836</td>\n",
       "      <td>0.297858</td>\n",
       "      <td>4.039637</td>\n",
       "      <td>141.382279</td>\n",
       "      <td>1.414273</td>\n",
       "      <td>68.985817</td>\n",
       "      <td>1442.013834</td>\n",
       "      <td>0.287774</td>\n",
       "      <td>0.458105</td>\n",
       "      <td>0.466996</td>\n",
       "    </tr>\n",
       "  </tbody>\n",
       "</table>\n",
       "</div>"
      ],
      "text/plain": [
       "       Transaction_Amount                      Timestamp  Account_Balance  \\\n",
       "count        50000.000000                          50000     50000.000000   \n",
       "mean            99.411012  2023-07-02 12:47:11.063999744     50294.065981   \n",
       "min              0.000000            2023-01-01 00:01:00       500.480000   \n",
       "25%             28.677500            2023-04-02 03:35:30     25355.995000   \n",
       "50%             69.660000            2023-07-02 14:00:00     50384.430000   \n",
       "75%            138.852500            2023-10-01 07:13:00     75115.135000   \n",
       "max           1174.140000            2023-12-31 23:50:00     99998.310000   \n",
       "std             98.687292                            NaN     28760.458557   \n",
       "\n",
       "       IP_Address_Flag  Previous_Fraudulent_Activity  Daily_Transaction_Count  \\\n",
       "count      50000.00000                  50000.000000             50000.000000   \n",
       "mean           0.05020                      0.098400                 7.485240   \n",
       "min            0.00000                      0.000000                 1.000000   \n",
       "25%            0.00000                      0.000000                 4.000000   \n",
       "50%            0.00000                      0.000000                 7.000000   \n",
       "75%            0.00000                      0.000000                11.000000   \n",
       "max            1.00000                      1.000000                14.000000   \n",
       "std            0.21836                      0.297858                 4.039637   \n",
       "\n",
       "       Avg_Transaction_Amount_7d  Failed_Transaction_Count_7d      Card_Age  \\\n",
       "count               50000.000000                 50000.000000  50000.000000   \n",
       "mean                  255.271924                     2.003540    119.999940   \n",
       "min                    10.000000                     0.000000      1.000000   \n",
       "25%                   132.087500                     1.000000     60.000000   \n",
       "50%                   256.085000                     2.000000    120.000000   \n",
       "75%                   378.032500                     3.000000    180.000000   \n",
       "max                   500.000000                     4.000000    239.000000   \n",
       "std                   141.382279                     1.414273     68.985817   \n",
       "\n",
       "       Transaction_Distance    Risk_Score    Is_Weekend   Fraud_Label  \n",
       "count          50000.000000  50000.000000  50000.000000  50000.000000  \n",
       "mean            2499.164155      0.501556      0.299640      0.321340  \n",
       "min                0.250000      0.000100      0.000000      0.000000  \n",
       "25%             1256.497500      0.254000      0.000000      0.000000  \n",
       "50%             2490.785000      0.502250      0.000000      0.000000  \n",
       "75%             3746.395000      0.749525      1.000000      1.000000  \n",
       "max             4999.930000      1.000000      1.000000      1.000000  \n",
       "std             1442.013834      0.287774      0.458105      0.466996  "
      ]
     },
     "execution_count": 13,
     "metadata": {},
     "output_type": "execute_result"
    }
   ],
   "source": [
    "df.describe()"
   ]
  },
  {
   "cell_type": "code",
   "execution_count": 14,
   "id": "42c6c055-7754-4d3a-ae46-4973da64662f",
   "metadata": {},
   "outputs": [
    {
     "data": {
      "text/plain": [
       "np.float64(453.5116000000003)"
      ]
     },
     "execution_count": 14,
     "metadata": {},
     "output_type": "execute_result"
    }
   ],
   "source": [
    "#handling outliers\n",
    "upper_limit  = df['Transaction_Amount'].quantile(0.99)\n",
    "upper_limit"
   ]
  },
  {
   "cell_type": "code",
   "execution_count": 15,
   "id": "2e4b68bb-8d71-46dd-9f35-9fca5ba45374",
   "metadata": {},
   "outputs": [
    {
     "data": {
      "text/plain": [
       "np.float64(0.9899000000000001)"
      ]
     },
     "execution_count": 15,
     "metadata": {},
     "output_type": "execute_result"
    }
   ],
   "source": [
    "lower_limit  = df['Transaction_Amount'].quantile(0.01)\n",
    "lower_limit"
   ]
  },
  {
   "cell_type": "code",
   "execution_count": 32,
   "id": "c60a1817-d61c-4ca5-9b7b-a4c4bd9b7b00",
   "metadata": {},
   "outputs": [],
   "source": [
    "\n",
    "newdf = df.copy()\n",
    "newdf['Transaction_Amount'] = np.where(\n",
    "    newdf['Transaction_Amount'] > upper_limit, upper_limit,\n",
    "    np.where(newdf['Transaction_Amount'] < lower_limit, lower_limit, newdf['Transaction_Amount'])\n",
    ")\n"
   ]
  },
  {
   "cell_type": "code",
   "execution_count": 33,
   "id": "7e0873ad-ea00-4fb8-a64b-23ac62ab8713",
   "metadata": {},
   "outputs": [
    {
     "data": {
      "text/plain": [
       "count    50000.000000\n",
       "mean        98.417488\n",
       "std         93.916104\n",
       "min          0.989900\n",
       "25%         28.677500\n",
       "50%         69.660000\n",
       "75%        138.852500\n",
       "max        453.511600\n",
       "Name: Transaction_Amount, dtype: float64"
      ]
     },
     "execution_count": 33,
     "metadata": {},
     "output_type": "execute_result"
    }
   ],
   "source": [
    "newdf['Transaction_Amount'].describe()"
   ]
  },
  {
   "cell_type": "code",
   "execution_count": 27,
   "id": "c15cd981-ff9d-4592-ae34-6c9e26ff1c48",
   "metadata": {},
   "outputs": [
    {
     "data": {
      "text/plain": [
       "count    50000.000000\n",
       "mean        99.411012\n",
       "std         98.687292\n",
       "min          0.000000\n",
       "25%         28.677500\n",
       "50%         69.660000\n",
       "75%        138.852500\n",
       "max       1174.140000\n",
       "Name: Transaction_Amount, dtype: float64"
      ]
     },
     "execution_count": 27,
     "metadata": {},
     "output_type": "execute_result"
    }
   ],
   "source": [
    "df['Transaction_Amount'].describe()"
   ]
  },
  {
   "cell_type": "code",
   "execution_count": 39,
   "id": "b6283674-0d49-41d8-93c7-019b9aaa6668",
   "metadata": {},
   "outputs": [
    {
     "data": {
      "text/plain": [
       "0        False\n",
       "1        False\n",
       "2        False\n",
       "3        False\n",
       "4        False\n",
       "         ...  \n",
       "49995    False\n",
       "49996    False\n",
       "49997    False\n",
       "49998    False\n",
       "49999    False\n",
       "Length: 50000, dtype: bool"
      ]
     },
     "execution_count": 39,
     "metadata": {},
     "output_type": "execute_result"
    }
   ],
   "source": [
    "newdf['Transaction_ID  .duplicated()"
   ]
  },
  {
   "cell_type": "code",
   "execution_count": 41,
   "id": "3e499f38-67f9-4953-ab46-8d69520f1ee7",
   "metadata": {},
   "outputs": [],
   "source": [
    "newdf.to_csv('cleaned_fintack_data.csv', index=False)"
   ]
  },
  {
   "cell_type": "code",
   "execution_count": null,
   "id": "f4271e56-72e0-423d-a953-7e220d4bd1e7",
   "metadata": {},
   "outputs": [],
   "source": []
  }
 ],
 "metadata": {
  "kernelspec": {
   "display_name": "Python 3.10 - Clean",
   "language": "python",
   "name": "jupyter-env"
  },
  "language_info": {
   "codemirror_mode": {
    "name": "ipython",
    "version": 3
   },
   "file_extension": ".py",
   "mimetype": "text/x-python",
   "name": "python",
   "nbconvert_exporter": "python",
   "pygments_lexer": "ipython3",
   "version": "3.13.3"
  }
 },
 "nbformat": 4,
 "nbformat_minor": 5
}
